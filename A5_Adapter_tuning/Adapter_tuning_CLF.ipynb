{
 "cells": [
  {
   "cell_type": "code",
   "execution_count": 1,
   "metadata": {},
   "outputs": [],
   "source": [
    "%load_ext autoreload\n",
    "%autoreload 2"
   ]
  },
  {
   "cell_type": "code",
   "execution_count": 2,
   "metadata": {},
   "outputs": [],
   "source": [
    "import torch\n",
    "import json\n",
    "from tqdm import tqdm\n",
    "import pandas as pd\n",
    "\n",
    "import os\n",
    "import sys\n",
    "sys.path.append('..')\n",
    "from utils import nethook\n",
    "from utils import model_utils"
   ]
  },
  {
   "cell_type": "markdown",
   "metadata": {},
   "source": [
    "## Load Model"
   ]
  },
  {
   "cell_type": "code",
   "execution_count": 3,
   "metadata": {},
   "outputs": [],
   "source": [
    "MODEL_NAME = \"gpt2-medium\"  # gpt2-{medium,large,xl} or EleutherAI/gpt-j-6B\n",
    "mt = model_utils.ModelAndTokenizer(MODEL_NAME, low_cpu_mem_usage=False)\n",
    "\n",
    "model = mt.model\n",
    "tokenizer = mt.tokenizer\n",
    "tokenizer.pad_token = tokenizer.eos_token"
   ]
  },
  {
   "cell_type": "code",
   "execution_count": 4,
   "metadata": {},
   "outputs": [
    {
     "name": "stdout",
     "output_type": "stream",
     "text": [
      "Apple has recently released their iPhone 14 line of\n",
      "Apple has recently released their iPhone 14 line of devices, and while the iPhone 14 is a great phone, it's not the best phone. The iPhone 14 is a great phone, but it's not the best phone.  The iPhone 14 is\n",
      "p(answer):  p(' devices'[4410])=0.2049, p(' phones'[9512])=0.1882, p(' smartphones'[18151])=0.1707, p(' hands'[2832])=0.0887, p(' products'[3186])=0.0367\n",
      "\n",
      "Goole has released Pixel 7\n",
      "Goole has released Pixel 7 and Pixel 7 Plus, and the Pixel 7 Plus is the most expensive of the two. The Pixel 7 Plus is $649, while the Pixel 7 is $649.  The Pixel 7 is the first phone\n",
      "p(answer):  p(' and'[290])=0.1817, p(','[11])=0.0804, p('.'[13])=0.0659, p(' Plus'[8227])=0.0247, p(' on'[319])=0.0194\n",
      "\n",
      "I am taking a Machine Learning class\n",
      "I am taking a Machine Learning class at the University of California, Berkeley. I am interested in the topic of machine learning and I am looking for a mentor. I am looking for someone who can help me with my research and teaching. I am also\n",
      "p(answer):  p(' at'[379])=0.198, p(' in'[287])=0.0797, p(' with'[351])=0.071, p('.'[13])=0.0633, p(' and'[290])=0.0631\n",
      "\n",
      "Eiffel Tower is in Paris.\n",
      "Eiffel Tower is in Paris.  The French capital is home to the Eiffel Tower, the world's tallest building.  The Eiffel Tower is in Paris.  The French capital is home to the Eiff\n",
      "p(answer):  p('\n",
      "'[198])=0.2083, p(' The'[383])=0.1101, p(' It'[632])=0.075, p(' In'[554])=0.0222, p(' I'[314])=0.0214\n",
      "\n"
     ]
    }
   ],
   "source": [
    "prompt = [\n",
    "    \"Apple has recently released their iPhone 14 line of\",\n",
    "    \"Goole has released Pixel 7\",\n",
    "    \"I am taking a Machine Learning class\",\n",
    "    \"Eiffel Tower is in Paris.\"\n",
    "]\n",
    "\n",
    "txt, ret_dict = model_utils.generate_fast(\n",
    "    model, tokenizer,\n",
    "    prompt,\n",
    "    argmax_greedy = True,\n",
    "    max_out_len= 50,\n",
    "    # debug=True,\n",
    "    get_answer_tokens=True,\n",
    ")\n",
    "\n",
    "model_utils.print_formatted_results(prompt, txt, ret_dict)"
   ]
  },
  {
   "cell_type": "markdown",
   "metadata": {},
   "source": [
    "## Dataset (the `IMDB_50K_Reviews` dataset)"
   ]
  },
  {
   "cell_type": "code",
   "execution_count": 5,
   "metadata": {},
   "outputs": [
    {
     "data": {
      "text/html": [
       "<div>\n",
       "<style scoped>\n",
       "    .dataframe tbody tr th:only-of-type {\n",
       "        vertical-align: middle;\n",
       "    }\n",
       "\n",
       "    .dataframe tbody tr th {\n",
       "        vertical-align: top;\n",
       "    }\n",
       "\n",
       "    .dataframe thead th {\n",
       "        text-align: right;\n",
       "    }\n",
       "</style>\n",
       "<table border=\"1\" class=\"dataframe\">\n",
       "  <thead>\n",
       "    <tr style=\"text-align: right;\">\n",
       "      <th></th>\n",
       "      <th>review</th>\n",
       "      <th>sentiment</th>\n",
       "    </tr>\n",
       "  </thead>\n",
       "  <tbody>\n",
       "    <tr>\n",
       "      <th>38747</th>\n",
       "      <td>.... could it be that ITV wouldn't want to rel...</td>\n",
       "      <td>positive</td>\n",
       "    </tr>\n",
       "    <tr>\n",
       "      <th>32984</th>\n",
       "      <td>A typical Lanza flick that had limited audienc...</td>\n",
       "      <td>negative</td>\n",
       "    </tr>\n",
       "    <tr>\n",
       "      <th>10374</th>\n",
       "      <td>Kurt Thomas stars as Jonathan Cabot some kind ...</td>\n",
       "      <td>negative</td>\n",
       "    </tr>\n",
       "    <tr>\n",
       "      <th>32170</th>\n",
       "      <td>It's a gentle, easy-going 1950s comedy. Kim No...</td>\n",
       "      <td>positive</td>\n",
       "    </tr>\n",
       "    <tr>\n",
       "      <th>21268</th>\n",
       "      <td>As you may have gathered from the title, I who...</td>\n",
       "      <td>negative</td>\n",
       "    </tr>\n",
       "  </tbody>\n",
       "</table>\n",
       "</div>"
      ],
      "text/plain": [
       "                                                  review sentiment\n",
       "38747  .... could it be that ITV wouldn't want to rel...  positive\n",
       "32984  A typical Lanza flick that had limited audienc...  negative\n",
       "10374  Kurt Thomas stars as Jonathan Cabot some kind ...  negative\n",
       "32170  It's a gentle, easy-going 1950s comedy. Kim No...  positive\n",
       "21268  As you may have gathered from the title, I who...  negative"
      ]
     },
     "execution_count": 5,
     "metadata": {},
     "output_type": "execute_result"
    }
   ],
   "source": [
    "df = pd.read_csv(\"../Data/IMDB_50K_Reviews/archive/IMDB Dataset.csv\")\n",
    "df = df.sample(frac = 1)\n",
    "df.head()"
   ]
  },
  {
   "cell_type": "code",
   "execution_count": 6,
   "metadata": {},
   "outputs": [
    {
     "name": "stdout",
     "output_type": "stream",
     "text": [
      ".... could it be that ITV wouldn't want to release this absolute classic because it would show up their current series of Mike Bassett for what it is? When discussing Mike Bassett with some work colleagues I mentioned Bostock's Cup as being a far superior offering and was surprised to find that I seem to be the only person in my entire office that has actually seen it. This can't be right for a film that has got to be the funniest thing I have ever seen.<br /><br />Let's face it, ITV don't have the greatest recent record for producing comedy so you would think that they would jump at the chance of at least repeating something which is genuinely funny. Perhaps if it could be combined with a lucrative telephone competition of where we think the coach driver will go next then they might be interested.<br /><br />Come on ITV, there are still some of us out there who would like to watch original, quality comedy/drama. Do the decent thing thing. Repeat it then get it out on DVD.\n",
      "positive\n"
     ]
    }
   ],
   "source": [
    "for index, row in df.iterrows():\n",
    "    print(row[\"review\"])\n",
    "    print(row[\"sentiment\"])\n",
    "    break"
   ]
  },
  {
   "cell_type": "code",
   "execution_count": 7,
   "metadata": {},
   "outputs": [],
   "source": [
    "train_df = df[0:30000]\n",
    "validation_df = df[30000:40000]\n",
    "test_df = df[40000:50000]"
   ]
  },
  {
   "cell_type": "code",
   "execution_count": 8,
   "metadata": {},
   "outputs": [
    {
     "data": {
      "text/plain": [
       "((30000, 2), (10000, 2), (10000, 2))"
      ]
     },
     "execution_count": 8,
     "metadata": {},
     "output_type": "execute_result"
    }
   ],
   "source": [
    "train_df.shape, validation_df.shape, test_df.shape"
   ]
  },
  {
   "cell_type": "markdown",
   "metadata": {},
   "source": [
    "## Load presaved Data"
   ]
  },
  {
   "cell_type": "code",
   "execution_count": 5,
   "metadata": {},
   "outputs": [],
   "source": [
    "train_df = pd.read_csv(\"../Data/IMDB_50K_Reviews/train.csv\")\n",
    "validation_df = pd.read_csv(\"../Data/IMDB_50K_Reviews/validation.csv\")\n",
    "test_df = pd.read_csv(\"../Data/IMDB_50K_Reviews/test.csv\")"
   ]
  },
  {
   "cell_type": "markdown",
   "metadata": {},
   "source": [
    "## Dataloader"
   ]
  },
  {
   "cell_type": "code",
   "execution_count": 6,
   "metadata": {},
   "outputs": [],
   "source": [
    "from torch.utils.data import DataLoader, Dataset\n",
    "\n",
    "import re\n",
    "CLEANR = re.compile('<.*?>|&([a-z0-9]+|#[0-9]{1,6}|#x[0-9a-f]{1,6});|/.*/')\n",
    "\n",
    "def cleanhtml(raw_html):\n",
    "  raw_html = raw_html.replace(\"\\\\\", \"\")\n",
    "  raw_html = raw_html.replace(\"&#039;\", \"\\'\")\n",
    "  cleantext = re.sub(CLEANR, ' ', raw_html)\n",
    "  split = cleantext.strip().split(\" \")\n",
    "  if(split[0].isnumeric()):\n",
    "    split = split[1:]\n",
    "  return \" \".join([w for w in split if len(w.strip()) > 0])\n",
    "\n",
    "# cleanhtml(\"Don&#039;t mess with me\")\n",
    "# cleanhtml('<a href=\"#p79290593\" class=\"quotelink\">&gt;&gt;79290593</a><br><span class=\"quote\">&gt;canada</span><br><br>and you faggots think we&#039;re the worst shit posters')\n",
    "\n",
    "class GoEmotions(Dataset):\n",
    "    def __init__(self, data_frame):\n",
    "        self.x = []\n",
    "        self.y = []\n",
    "\n",
    "        for index, row in data_frame.iterrows():\n",
    "            self.x.append(\"<REVIEW>: \" + cleanhtml(row[\"review\"]) + \" <SENTIMENT>\")\n",
    "            self.y.append(\" \" + row[\"sentiment\"])\n",
    "        \n",
    "    def __len__(self):\n",
    "        return len(self.y)\n",
    "\n",
    "    def __getitem__(self, idx):\n",
    "        return self.x[idx], self.y[idx]\n"
   ]
  },
  {
   "cell_type": "code",
   "execution_count": 7,
   "metadata": {},
   "outputs": [
    {
     "data": {
      "text/plain": [
       "(30000, 10000, 10000)"
      ]
     },
     "execution_count": 7,
     "metadata": {},
     "output_type": "execute_result"
    }
   ],
   "source": [
    "training_dataset = GoEmotions(train_df)\n",
    "validation_dataset = GoEmotions(validation_df)\n",
    "test_dataset = GoEmotions(test_df)\n",
    "\n",
    "len(training_dataset), len(validation_dataset), len(test_dataset)"
   ]
  },
  {
   "cell_type": "code",
   "execution_count": 8,
   "metadata": {},
   "outputs": [],
   "source": [
    "batch_size = 2\n",
    "\n",
    "training_dataloader = DataLoader(training_dataset, batch_size=batch_size)\n",
    "validation_dataloader = DataLoader(validation_dataset, batch_size=batch_size)\n",
    "testing_dataloader = DataLoader(test_dataset, batch_size=batch_size)"
   ]
  },
  {
   "cell_type": "markdown",
   "metadata": {},
   "source": [
    "## Adapter Tuning"
   ]
  },
  {
   "cell_type": "code",
   "execution_count": 9,
   "metadata": {},
   "outputs": [],
   "source": [
    "embedder = \"transformer.wte\"\n",
    "layer_norm_final = \"transformer.ln_f\"\n",
    "transformer_blocks = [f\"transformer.h.{n}\" for n in range(model.config.n_layer)]\n",
    "mlp_blocks = [f\"transformer.h.{n}.mlp\" for n in range(model.config.n_layer)]\n",
    "unembedder = \"lm_head\""
   ]
  },
  {
   "cell_type": "code",
   "execution_count": 10,
   "metadata": {},
   "outputs": [],
   "source": [
    "###############################################################################################################\n",
    "adapter_dim = 128\n",
    "hidden_conf = []\n",
    "num_epochs = 10\n",
    "###############################################################################################################\n",
    "\n",
    "learning_rate = 5e-4\n",
    "warmup_steps = 200\n",
    "weight_decay = 0\n",
    "\n",
    "optimization_batch_size = 8\n",
    "max_token_per_comment = 963\n",
    "\n",
    "save_path = f\"../Saved_weights/Adapter-Tuned_CLF__IMDB_50K/{MODEL_NAME}\""
   ]
  },
  {
   "cell_type": "code",
   "execution_count": 11,
   "metadata": {},
   "outputs": [],
   "source": [
    "embedder_module = nethook.get_module(model, embedder)\n",
    "lm_head = nethook.get_module(model, unembedder)"
   ]
  },
  {
   "cell_type": "code",
   "execution_count": 12,
   "metadata": {},
   "outputs": [],
   "source": [
    "def untuple(output):\n",
    "    if(type(output) is tuple):\n",
    "        return output[0]\n",
    "    return output\n",
    "\n",
    "def get_shape(output):\n",
    "    pre = f\"{type(output)} ==> \"\n",
    "    if(type(output) is tuple):\n",
    "        return pre + f\"{output[0].shape} -- {(output[1][0].shape, output[1][1].shape)}\"\n",
    "    return pre + f\"{output.shape}\""
   ]
  },
  {
   "cell_type": "code",
   "execution_count": 13,
   "metadata": {},
   "outputs": [],
   "source": [
    "def get_adapter_tuning_edit(adapter_collection):\n",
    "    def insert_adapters_into_calculation(output, layer, adapter_collection = adapter_collection):\n",
    "        if(layer not in adapter_collection):\n",
    "            return output\n",
    "        # print(\"intervention ==> \", layer, \"output shape ===> \", get_shape(output))\n",
    "\n",
    "        return adapter_collection[layer](output)\n",
    "    return insert_adapters_into_calculation"
   ]
  },
  {
   "cell_type": "code",
   "execution_count": 14,
   "metadata": {},
   "outputs": [],
   "source": [
    "from torch.nn import Linear, ReLU, Sequential, Tanh\n",
    "\n",
    "def init_weights(m, lo = -0.0001, hi = 0.0001):\n",
    "    if isinstance(m, Linear):\n",
    "        torch.nn.init.uniform_(m.weight, a = lo, b = hi)\n",
    "        torch.nn.init.uniform_(m.bias, a = lo, b = hi)\n",
    "\n",
    "\n",
    "class Adapter(torch.nn.Module):\n",
    "    def __init__(self, inp_out_dim, adapter_dim, hidden_conf = []):\n",
    "        super().__init__()\n",
    "        self.inp_out_dim = inp_out_dim\n",
    "        self.conf = [inp_out_dim] + hidden_conf + [adapter_dim] + hidden_conf[::-1] + [inp_out_dim]\n",
    "        # print(self.conf)\n",
    "        self.adapter_dim = adapter_dim\n",
    "        self.layers = []\n",
    "\n",
    "        i = 1\n",
    "        while i < len(self.conf):\n",
    "            inp = self.conf[i-1]\n",
    "            out = self.conf[i]\n",
    "            layer_name = f'layer{i}'\n",
    "            setattr(self, layer_name, Sequential(Linear(inp, out), ReLU()))\n",
    "            self.layers.append(layer_name)\n",
    "            i += 1\n",
    "    \n",
    "    def forward(self, x):\n",
    "        x_init = x.clone()\n",
    "        for module in self.named_children():\n",
    "            layer_name = module[0]\n",
    "            layer = getattr(self, layer_name)\n",
    "            x = layer(x)\n",
    "        return x + x_init"
   ]
  },
  {
   "cell_type": "code",
   "execution_count": 15,
   "metadata": {},
   "outputs": [],
   "source": [
    "adapter_blocks = {\n",
    "    k: Adapter(\n",
    "        inp_out_dim = model.config.n_embd,\n",
    "        adapter_dim = adapter_dim,\n",
    "        hidden_conf = hidden_conf\n",
    "    ).to(next(model.parameters()).device)\n",
    "    for k in mlp_blocks\n",
    "}\n",
    "\n",
    "for k in adapter_blocks:\n",
    "    adapter_blocks[k] = adapter_blocks[k].apply(init_weights)"
   ]
  },
  {
   "cell_type": "code",
   "execution_count": 16,
   "metadata": {},
   "outputs": [],
   "source": [
    "# ## make sure that the effect of adapters are near identity\n",
    "\n",
    "# prompt = [\n",
    "#     \"Apple has recently released their iPhone 14 line of\",\n",
    "#     \"Goole has released Pixel 7\",\n",
    "#     \"I am taking a Machine Learning class\",\n",
    "#     \"Eiffel Tower is in Paris.\"\n",
    "# ]\n",
    "\n",
    "# txt, ret_dict = model_utils.generate_fast(\n",
    "#     model, tokenizer,\n",
    "#     prompt,\n",
    "#     argmax_greedy = True,\n",
    "#     max_out_len= 50,\n",
    "#     get_answer_tokens=True,\n",
    "\n",
    "#     light_weight_tuning= adapter_blocks, algo = \"adapter\"\n",
    "# )\n",
    "\n",
    "# model_utils.print_formatted_results(prompt, txt, ret_dict)"
   ]
  },
  {
   "cell_type": "code",
   "execution_count": 17,
   "metadata": {},
   "outputs": [
    {
     "name": "stdout",
     "output_type": "stream",
     "text": [
      "Epoch 1\n"
     ]
    },
    {
     "name": "stderr",
     "output_type": "stream",
     "text": [
      "  0%|          | 2/15000 [00:00<18:39, 13.40it/s]Token indices sequence length is longer than the specified maximum sequence length for this model (1036 > 1024). Running this sequence through the model will result in indexing errors\n",
      "  5%|▍         | 718/15000 [01:18<25:56,  9.18it/s]"
     ]
    },
    {
     "name": "stdout",
     "output_type": "stream",
     "text": [
      "#####################  CHECKPOINT -- saving weights #####################\n"
     ]
    },
    {
     "name": "stderr",
     "output_type": "stream",
     "text": [
      "\n"
     ]
    },
    {
     "data": {
      "image/png": "[encoded data removed]",
      "text/plain": [
       "<Figure size 432x288 with 1 Axes>"
      ]
     },
     "metadata": {
      "needs_background": "light"
     },
     "output_type": "display_data"
    },
    {
     "name": "stdout",
     "output_type": "stream",
     "text": [
      "Epoch 2\n"
     ]
    },
    {
     "name": "stderr",
     "output_type": "stream",
     "text": [
      "100%|██████████| 15000/15000 [26:34<00:00,  9.41it/s]\n"
     ]
    },
    {
     "name": "stdout",
     "output_type": "stream",
     "text": [
      "#####################  CHECKPOINT -- saving weights #####################\n"
     ]
    },
    {
     "data": {
      "image/png": "[encoded data removed]",
      "text/plain": [
       "<Figure size 432x288 with 1 Axes>"
      ]
     },
     "metadata": {
      "needs_background": "light"
     },
     "output_type": "display_data"
    },
    {
     "name": "stdout",
     "output_type": "stream",
     "text": [
      "Epoch 3\n"
     ]
    },
    {
     "name": "stderr",
     "output_type": "stream",
     "text": [
      "100%|██████████| 15000/15000 [26:43<00:00,  9.35it/s]\n"
     ]
    },
    {
     "name": "stdout",
     "output_type": "stream",
     "text": [
      "#####################  CHECKPOINT -- saving weights #####################\n"
     ]
    },
    {
     "data": {
      "image/png": "[encoded data removed]",
      "text/plain": [
       "<Figure size 432x288 with 1 Axes>"
      ]
     },
     "metadata": {
      "needs_background": "light"
     },
     "output_type": "display_data"
    },
    {
     "name": "stdout",
     "output_type": "stream",
     "text": [
      "Epoch 4\n"
     ]
    },
    {
     "name": "stderr",
     "output_type": "stream",
     "text": [
      "100%|██████████| 15000/15000 [26:38<00:00,  9.39it/s]\n"
     ]
    },
    {
     "name": "stdout",
     "output_type": "stream",
     "text": [
      "#####################  CHECKPOINT -- saving weights #####################\n"
     ]
    },
    {
     "data": {
      "image/png": "[encoded data removed]",
      "text/plain": [
       "<Figure size 432x288 with 1 Axes>"
      ]
     },
     "metadata": {
      "needs_background": "light"
     },
     "output_type": "display_data"
    },
    {
     "name": "stdout",
     "output_type": "stream",
     "text": [
      "Epoch 5\n"
     ]
    },
    {
     "name": "stderr",
     "output_type": "stream",
     "text": [
      "100%|██████████| 15000/15000 [26:38<00:00,  9.38it/s]\n"
     ]
    },
    {
     "name": "stdout",
     "output_type": "stream",
     "text": [
      "#####################  CHECKPOINT -- saving weights #####################\n"
     ]
    },
    {
     "data": {
      "image/png": "[encoded data removed]",
      "text/plain": [
       "<Figure size 432x288 with 1 Axes>"
      ]
     },
     "metadata": {
      "needs_background": "light"
     },
     "output_type": "display_data"
    },
    {
     "name": "stdout",
     "output_type": "stream",
     "text": [
      "Epoch 6\n"
     ]
    },
    {
     "name": "stderr",
     "output_type": "stream",
     "text": [
      "100%|██████████| 15000/15000 [26:40<00:00,  9.37it/s]\n"
     ]
    },
    {
     "name": "stdout",
     "output_type": "stream",
     "text": [
      "#####################  CHECKPOINT -- saving weights #####################\n"
     ]
    },
    {
     "data": {
      "image/png": "[encoded data removed]",
      "text/plain": [
       "<Figure size 432x288 with 1 Axes>"
      ]
     },
     "metadata": {
      "needs_background": "light"
     },
     "output_type": "display_data"
    },
    {
     "name": "stdout",
     "output_type": "stream",
     "text": [
      "Epoch 7\n"
     ]
    },
    {
     "name": "stderr",
     "output_type": "stream",
     "text": [
      "100%|██████████| 15000/15000 [26:38<00:00,  9.38it/s]\n"
     ]
    },
    {
     "name": "stdout",
     "output_type": "stream",
     "text": [
      "#####################  CHECKPOINT -- saving weights #####################\n"
     ]
    },
    {
     "data": {
      "image/png": "[encoded data removed]",
      "text/plain": [
       "<Figure size 432x288 with 1 Axes>"
      ]
     },
     "metadata": {
      "needs_background": "light"
     },
     "output_type": "display_data"
    },
    {
     "name": "stdout",
     "output_type": "stream",
     "text": [
      "Epoch 8\n"
     ]
    },
    {
     "name": "stderr",
     "output_type": "stream",
     "text": [
      "100%|██████████| 15000/15000 [26:40<00:00,  9.37it/s]\n"
     ]
    },
    {
     "name": "stdout",
     "output_type": "stream",
     "text": [
      "#####################  CHECKPOINT -- saving weights #####################\n"
     ]
    },
    {
     "data": {
      "image/png": "[encoded data removed]",
      "text/plain": [
       "<Figure size 432x288 with 1 Axes>"
      ]
     },
     "metadata": {
      "needs_background": "light"
     },
     "output_type": "display_data"
    },
    {
     "name": "stdout",
     "output_type": "stream",
     "text": [
      "Epoch 9\n"
     ]
    },
    {
     "name": "stderr",
     "output_type": "stream",
     "text": [
      "100%|██████████| 15000/15000 [26:41<00:00,  9.37it/s]\n"
     ]
    },
    {
     "name": "stdout",
     "output_type": "stream",
     "text": [
      "#####################  CHECKPOINT -- saving weights #####################\n"
     ]
    },
    {
     "data": {
      "image/png": "[encoded data removed]",
      "text/plain": [
       "<Figure size 432x288 with 1 Axes>"
      ]
     },
     "metadata": {
      "needs_background": "light"
     },
     "output_type": "display_data"
    },
    {
     "name": "stdout",
     "output_type": "stream",
     "text": [
      "Epoch 10\n"
     ]
    },
    {
     "name": "stderr",
     "output_type": "stream",
     "text": [
      "100%|██████████| 15000/15000 [26:38<00:00,  9.38it/s]\n"
     ]
    },
    {
     "name": "stdout",
     "output_type": "stream",
     "text": [
      "#####################  CHECKPOINT -- saving weights #####################\n"
     ]
    },
    {
     "data": {
      "image/png": "[encoded data removed]",
      "text/plain": [
       "<Figure size 432x288 with 1 Axes>"
      ]
     },
     "metadata": {
      "needs_background": "light"
     },
     "output_type": "display_data"
    }
   ],
   "source": [
    "from transformers import AdamW, get_linear_schedule_with_warmup\n",
    "import matplotlib.pyplot as plt\n",
    "\n",
    "# optimizer = AdamW(\n",
    "#     # model.parameters(),\n",
    "#     [v for _, v in tunable_weights.items()],\n",
    "#     lr = learning_rate,\n",
    "# )\n",
    "# scheduler = get_linear_schedule_with_warmup(\n",
    "#     optimizer, num_warmup_steps=warmup_steps, num_training_steps=-1\n",
    "# )\n",
    "\n",
    "# for k in adapter_blocks:\n",
    "#     adapter_blocks[k].parameters().requires_grad = True\n",
    "\n",
    "for name, w in model.named_parameters():\n",
    "    w.requires_grad = True\n",
    "\n",
    "tunable = []\n",
    "for k in adapter_blocks:\n",
    "    tunable += adapter_blocks[k].parameters()\n",
    "\n",
    "for t in tunable:\n",
    "    t.requires_grad = True\n",
    "\n",
    "optimizer = torch.optim.Adam(\n",
    "    tunable,\n",
    "    lr=learning_rate,\n",
    "    weight_decay=weight_decay,\n",
    ")\n",
    "\n",
    "num_prompts_optimized = 0\n",
    "training_loss_track = []\n",
    "validation_loss_track = []\n",
    "\n",
    "target_track = {\n",
    "    \" positive\": 0,\n",
    "    \" negative\": 0\n",
    "}\n",
    "\n",
    "###############################################################################\n",
    "insert_adapter_embeddings = get_adapter_tuning_edit(adapter_blocks)\n",
    "###############################################################################\n",
    "\n",
    "limit = 700\n",
    "\n",
    "for epoch in range(num_epochs):\n",
    "    print(f\"Epoch {epoch + 1}\")\n",
    "    for reviews, sentiments in tqdm(training_dataloader):\n",
    "        tokenized_inputs = tokenizer(\n",
    "            list(reviews),\n",
    "            padding = True,\n",
    "            return_tensors=\"pt\"\n",
    "        ).to(next(model.parameters()).device)\n",
    "\n",
    "        if(tokenized_inputs['input_ids'].shape[1] > max_token_per_comment):\n",
    "            # print(f\"BLOCKED ==> {tokenized_inputs['input_ids'].shape[1]}\")\n",
    "            continue\n",
    "            \n",
    "        for t in sentiments:\n",
    "            target_track[t] += 1\n",
    "\n",
    "        target_ids = tokenizer(\n",
    "            list(sentiments), \n",
    "            padding = True,\n",
    "            return_tensors=\"pt\"\n",
    "        ).to(next(model.parameters()).device)['input_ids']\n",
    "\n",
    "        # print(sentiments)\n",
    "\n",
    "        # print(tokenized_inputs['input_ids'].shape)\n",
    "        # print(sentiments, target_ids)\n",
    "\n",
    "        last_token_inds = tokenized_inputs[\"attention_mask\"].sum(dim=1) - 1\n",
    "        loss_mask = target_ids != tokenizer.unk_token_id\n",
    "\n",
    "        # tokenized[\"input_ids\"].require_grad = True\n",
    "        with nethook.TraceDict(\n",
    "            model,\n",
    "            [embedder, layer_norm_final] + mlp_blocks + [unembedder],\n",
    "            edit_output=insert_adapter_embeddings\n",
    "        ) as traces:\n",
    "            outputs = model(\n",
    "                **tokenized_inputs, \n",
    "                labels=tokenized_inputs['input_ids']\n",
    "            )\n",
    "\n",
    "        probs = torch.nn.functional.log_softmax(\n",
    "            outputs.logits[torch.arange(batch_size), last_token_inds], dim=-1\n",
    "        )\n",
    "        # print(probs)\n",
    "\n",
    "        loss = -(torch.gather(probs, 1, target_ids) * loss_mask).sum(1) / loss_mask.sum(1)\n",
    "        loss = loss.mean()\n",
    "\n",
    "        training_loss_track.append(loss.item())\n",
    "        # print(loss)\n",
    "\n",
    "        model.zero_grad()\n",
    "        optimizer.zero_grad()\n",
    "        loss.backward()\n",
    "        optimizer.step()\n",
    "\n",
    "        limit -= 1\n",
    "        if(limit == 0):\n",
    "            break\n",
    "        \n",
    "    print(\"#####################  CHECKPOINT -- saving weights #####################\")\n",
    "    os.makedirs(save_path, exist_ok = True)\n",
    "    torch.save(adapter_blocks, f\"{save_path}/adapter_tuned__epoch_{epoch+1}.pth\")\n",
    "    with open(f\"{save_path}/loss_track_{epoch + 1}.json\", \"w\") as f:\n",
    "        json.dump({\"training\": training_loss_track, \"validation\": validation_loss_track}, f)\n",
    "    \n",
    "    plt.title(\"\")\n",
    "    plt.plot(training_loss_track)\n",
    "    plt.show()\n",
    "    training_loss_track = []\n",
    "    # break"
   ]
  },
  {
   "cell_type": "markdown",
   "metadata": {},
   "source": [
    "## Testing"
   ]
  },
  {
   "cell_type": "code",
   "execution_count": 18,
   "metadata": {},
   "outputs": [],
   "source": [
    "# checkpoint = torch.load('../Saved_weights/Fine-Tuned_CLF__IMDB_50K/gpt2-medium/finetuned_0.pth')\n",
    "# model.load_state_dict(checkpoint)"
   ]
  },
  {
   "cell_type": "code",
   "execution_count": 19,
   "metadata": {},
   "outputs": [],
   "source": [
    "# ## make sure that the effect of adapters are near identity\n",
    "\n",
    "# prompt = [\n",
    "#     \"Apple has recently released their iPhone 14 line of\",\n",
    "#     \"Goole has released Pixel 7\",\n",
    "#     \"I am taking a Machine Learning class\",\n",
    "#     \"Eiffel Tower is in Paris.\"\n",
    "# ]\n",
    "\n",
    "# txt, ret_dict = model_utils.generate_fast(\n",
    "#     model, tokenizer,\n",
    "#     prompt,\n",
    "#     argmax_greedy = False,\n",
    "#     max_out_len= 50,\n",
    "#     get_answer_tokens=True,\n",
    "\n",
    "#     light_weight_tuning= adapter_blocks, algo = \"adapter\"\n",
    "# )\n",
    "\n",
    "# model_utils.print_formatted_results(prompt, txt, ret_dict)"
   ]
  },
  {
   "cell_type": "code",
   "execution_count": 20,
   "metadata": {},
   "outputs": [
    {
     "name": "stdout",
     "output_type": "stream",
     "text": [
      "<REVIEW>: This was an awesome movie <SENTIMENT>\n",
      "<REVIEW>: This was an awesome movie <SENTIMENT> a great, great, great, great, great, great, great, great, great, great, great, great,\n",
      "p(answer):  p(' a'[257])=0.0707, p(' awesome'[7427])=0.0662, p(' the'[262])=0.0515, p(' positive'[3967])=0.05, p(' great'[1049])=0.0478\n",
      "\n",
      "<REVIEW>: This was a bad movie <SENTIMENT>\n",
      "<REVIEW>: This was a bad movie <SENTIMENT> negative.  The film is a negative.  The film is a negative.  The film is a negative\n",
      "p(answer):  p(' negative'[4633])=0.2896, p(' bad'[2089])=0.2497, p(' not'[407])=0.0727, p(' a'[257])=0.0264, p(' the'[262])=0.0151\n",
      "\n",
      "<REVIEW>: This was not a good movie <SENTIMENT>\n",
      "<REVIEW>: This was not a good movie <SENTIMENT> negative.  The film is a \"sad\" and \"sad-looking\" film.  The\n",
      "p(answer):  p(' negative'[4633])=0.2641, p(' bad'[2089])=0.069, p(' not'[407])=0.0563, p(' a'[257])=0.0213, p(' the'[262])=0.0202\n",
      "\n",
      "<REVIEW>: That movie was garbage <SENTIMENT>\n",
      "<REVIEW>: That movie was garbage <SENTIMENT> negative.  The movie was a total waste of time and money.  The movie was a total waste of time and\n",
      "p(answer):  p(' negative'[4633])=0.9999, p(' positive'[3967])=0.0001, p(' Negative'[36183])=0.0, p('negative'[31591])=0.0, p(' negatives'[42510])=0.0\n",
      "\n"
     ]
    }
   ],
   "source": [
    "prompt = [\n",
    "    \"This was an awesome movie\",\n",
    "    \"This was a bad movie\",\n",
    "    \"This was not a good movie\",\n",
    "    \"That movie was garbage\"\n",
    "]\n",
    "\n",
    "prompt = [\"<REVIEW>: \" + p + \" <SENTIMENT>\" for p in prompt]\n",
    "\n",
    "txt, ret_dict = model_utils.generate_fast(\n",
    "    model, tokenizer,\n",
    "    prompt,\n",
    "    argmax_greedy = True,\n",
    "    max_out_len= 40,\n",
    "    # debug=True,\n",
    "    get_answer_tokens=True,\n",
    "\n",
    "    light_weight_tuning= adapter_blocks, algo = \"adapter\"\n",
    "    # track_interesting_words = [\n",
    "    #     [\" positive\", \" negative\"],\n",
    "    #     [\" positive\", \" negative\"]\n",
    "    # ]\n",
    ")\n",
    "\n",
    "model_utils.print_formatted_results(prompt, txt, ret_dict)"
   ]
  },
  {
   "cell_type": "code",
   "execution_count": 21,
   "metadata": {},
   "outputs": [
    {
     "name": "stderr",
     "output_type": "stream",
     "text": [
      "100%|██████████| 10000/10000 [07:53<00:00, 21.10it/s]\n"
     ]
    }
   ],
   "source": [
    "testing_dataloader = DataLoader(test_dataset, batch_size=1)\n",
    "\n",
    "target = []\n",
    "predict = []Saved_weights/Adapter-Tuned_CLF__IMDB_50K/gpt2-medium/adapter_tuned__epoch_3.pth\n",
    "\n",
    "for reviews, sentiment in tqdm(testing_dataloader):\n",
    "    tokenized_inputs = tokenizer(\n",
    "        list(reviews),\n",
    "        padding = True,\n",
    "        return_tensors=\"pt\"\n",
    "    ).to(next(model.parameters()).device)\n",
    "\n",
    "    if(tokenized_inputs['input_ids'].shape[1] > max_token_per_comment):\n",
    "        # print(f\"BLOCKED ==> {tokenized_inputs['input_ids'].shape[1]}\")\n",
    "        continue\n",
    "\n",
    "    last_token_inds = tokenized_inputs[\"attention_mask\"].sum(dim=1)\n",
    "    max_out_len = max(last_token_inds).item()\n",
    "\n",
    "    with torch.no_grad():\n",
    "        txt, ret_dict = model_utils.generate_fast(\n",
    "            model, tokenizer,\n",
    "            list(reviews),\n",
    "            argmax_greedy = True,\n",
    "            max_out_len= max_out_len + 3,\n",
    "            # debug=True,\n",
    "            get_answer_tokens=True,\n",
    "\n",
    "            light_weight_tuning= adapter_blocks, algo = \"adapter\"\n",
    "        )\n",
    "\n",
    "    for t, p in zip(list(sentiment), ret_dict['answer']):\n",
    "        target.append(t)\n",
    "        predict.append(p['top_token'])\n",
    "\n",
    "    # print(txt, ret_dict['answer'])\n",
    "\n",
    "    # break"
   ]
  },
  {
   "cell_type": "code",
   "execution_count": 22,
   "metadata": {},
   "outputs": [
    {
     "name": "stdout",
     "output_type": "stream",
     "text": [
      "4830 536\n",
      "165 4307\n"
     ]
    }
   ],
   "source": [
    "from sklearn.metrics import confusion_matrix\n",
    "\n",
    "tn, fp, fn, tp = confusion_matrix(target, predict).ravel()\n",
    "\n",
    "print(tp, fp)\n",
    "print(fn, tn)"
   ]
  },
  {
   "cell_type": "code",
   "execution_count": 23,
   "metadata": {},
   "outputs": [
    {
     "data": {
      "text/plain": [
       "0.928145882822736"
      ]
     },
     "execution_count": 23,
     "metadata": {},
     "output_type": "execute_result"
    }
   ],
   "source": [
    "sensitivity = tp/(tp + fn)\n",
    "specificity = tn/(tn + fp)\n",
    "balanced_acc = (sensitivity + specificity)/2\n",
    "\n",
    "balanced_acc"
   ]
  },
  {
   "cell_type": "code",
   "execution_count": 25,
   "metadata": {},
   "outputs": [
    {
     "data": {
      "text/plain": [
       "{' positive': 130937, ' negative': 132777}"
      ]
     },
     "execution_count": 25,
     "metadata": {},
     "output_type": "execute_result"
    }
   ],
   "source": [
    "target_track"
   ]
  },
  {
   "cell_type": "code",
   "execution_count": 27,
   "metadata": {},
   "outputs": [
    {
     "data": {
      "text/plain": [
       "{'transformer.h.0.mlp': Adapter(\n",
       "   (layer1): Sequential(\n",
       "     (0): Linear(in_features=1024, out_features=128, bias=True)\n",
       "     (1): ReLU()\n",
       "   )\n",
       "   (layer2): Sequential(\n",
       "     (0): Linear(in_features=128, out_features=1024, bias=True)\n",
       "     (1): ReLU()\n",
       "   )\n",
       " ),\n",
       " 'transformer.h.1.mlp': Adapter(\n",
       "   (layer1): Sequential(\n",
       "     (0): Linear(in_features=1024, out_features=128, bias=True)\n",
       "     (1): ReLU()\n",
       "   )\n",
       "   (layer2): Sequential(\n",
       "     (0): Linear(in_features=128, out_features=1024, bias=True)\n",
       "     (1): ReLU()\n",
       "   )\n",
       " ),\n",
       " 'transformer.h.2.mlp': Adapter(\n",
       "   (layer1): Sequential(\n",
       "     (0): Linear(in_features=1024, out_features=128, bias=True)\n",
       "     (1): ReLU()\n",
       "   )\n",
       "   (layer2): Sequential(\n",
       "     (0): Linear(in_features=128, out_features=1024, bias=True)\n",
       "     (1): ReLU()\n",
       "   )\n",
       " ),\n",
       " 'transformer.h.3.mlp': Adapter(\n",
       "   (layer1): Sequential(\n",
       "     (0): Linear(in_features=1024, out_features=128, bias=True)\n",
       "     (1): ReLU()\n",
       "   )\n",
       "   (layer2): Sequential(\n",
       "     (0): Linear(in_features=128, out_features=1024, bias=True)\n",
       "     (1): ReLU()\n",
       "   )\n",
       " ),\n",
       " 'transformer.h.4.mlp': Adapter(\n",
       "   (layer1): Sequential(\n",
       "     (0): Linear(in_features=1024, out_features=128, bias=True)\n",
       "     (1): ReLU()\n",
       "   )\n",
       "   (layer2): Sequential(\n",
       "     (0): Linear(in_features=128, out_features=1024, bias=True)\n",
       "     (1): ReLU()\n",
       "   )\n",
       " ),\n",
       " 'transformer.h.5.mlp': Adapter(\n",
       "   (layer1): Sequential(\n",
       "     (0): Linear(in_features=1024, out_features=128, bias=True)\n",
       "     (1): ReLU()\n",
       "   )\n",
       "   (layer2): Sequential(\n",
       "     (0): Linear(in_features=128, out_features=1024, bias=True)\n",
       "     (1): ReLU()\n",
       "   )\n",
       " ),\n",
       " 'transformer.h.6.mlp': Adapter(\n",
       "   (layer1): Sequential(\n",
       "     (0): Linear(in_features=1024, out_features=128, bias=True)\n",
       "     (1): ReLU()\n",
       "   )\n",
       "   (layer2): Sequential(\n",
       "     (0): Linear(in_features=128, out_features=1024, bias=True)\n",
       "     (1): ReLU()\n",
       "   )\n",
       " ),\n",
       " 'transformer.h.7.mlp': Adapter(\n",
       "   (layer1): Sequential(\n",
       "     (0): Linear(in_features=1024, out_features=128, bias=True)\n",
       "     (1): ReLU()\n",
       "   )\n",
       "   (layer2): Sequential(\n",
       "     (0): Linear(in_features=128, out_features=1024, bias=True)\n",
       "     (1): ReLU()\n",
       "   )\n",
       " ),\n",
       " 'transformer.h.8.mlp': Adapter(\n",
       "   (layer1): Sequential(\n",
       "     (0): Linear(in_features=1024, out_features=128, bias=True)\n",
       "     (1): ReLU()\n",
       "   )\n",
       "   (layer2): Sequential(\n",
       "     (0): Linear(in_features=128, out_features=1024, bias=True)\n",
       "     (1): ReLU()\n",
       "   )\n",
       " ),\n",
       " 'transformer.h.9.mlp': Adapter(\n",
       "   (layer1): Sequential(\n",
       "     (0): Linear(in_features=1024, out_features=128, bias=True)\n",
       "     (1): ReLU()\n",
       "   )\n",
       "   (layer2): Sequential(\n",
       "     (0): Linear(in_features=128, out_features=1024, bias=True)\n",
       "     (1): ReLU()\n",
       "   )\n",
       " ),\n",
       " 'transformer.h.10.mlp': Adapter(\n",
       "   (layer1): Sequential(\n",
       "     (0): Linear(in_features=1024, out_features=128, bias=True)\n",
       "     (1): ReLU()\n",
       "   )\n",
       "   (layer2): Sequential(\n",
       "     (0): Linear(in_features=128, out_features=1024, bias=True)\n",
       "     (1): ReLU()\n",
       "   )\n",
       " ),\n",
       " 'transformer.h.11.mlp': Adapter(\n",
       "   (layer1): Sequential(\n",
       "     (0): Linear(in_features=1024, out_features=128, bias=True)\n",
       "     (1): ReLU()\n",
       "   )\n",
       "   (layer2): Sequential(\n",
       "     (0): Linear(in_features=128, out_features=1024, bias=True)\n",
       "     (1): ReLU()\n",
       "   )\n",
       " ),\n",
       " 'transformer.h.12.mlp': Adapter(\n",
       "   (layer1): Sequential(\n",
       "     (0): Linear(in_features=1024, out_features=128, bias=True)\n",
       "     (1): ReLU()\n",
       "   )\n",
       "   (layer2): Sequential(\n",
       "     (0): Linear(in_features=128, out_features=1024, bias=True)\n",
       "     (1): ReLU()\n",
       "   )\n",
       " ),\n",
       " 'transformer.h.13.mlp': Adapter(\n",
       "   (layer1): Sequential(\n",
       "     (0): Linear(in_features=1024, out_features=128, bias=True)\n",
       "     (1): ReLU()\n",
       "   )\n",
       "   (layer2): Sequential(\n",
       "     (0): Linear(in_features=128, out_features=1024, bias=True)\n",
       "     (1): ReLU()\n",
       "   )\n",
       " ),\n",
       " 'transformer.h.14.mlp': Adapter(\n",
       "   (layer1): Sequential(\n",
       "     (0): Linear(in_features=1024, out_features=128, bias=True)\n",
       "     (1): ReLU()\n",
       "   )\n",
       "   (layer2): Sequential(\n",
       "     (0): Linear(in_features=128, out_features=1024, bias=True)\n",
       "     (1): ReLU()\n",
       "   )\n",
       " ),\n",
       " 'transformer.h.15.mlp': Adapter(\n",
       "   (layer1): Sequential(\n",
       "     (0): Linear(in_features=1024, out_features=128, bias=True)\n",
       "     (1): ReLU()\n",
       "   )\n",
       "   (layer2): Sequential(\n",
       "     (0): Linear(in_features=128, out_features=1024, bias=True)\n",
       "     (1): ReLU()\n",
       "   )\n",
       " ),\n",
       " 'transformer.h.16.mlp': Adapter(\n",
       "   (layer1): Sequential(\n",
       "     (0): Linear(in_features=1024, out_features=128, bias=True)\n",
       "     (1): ReLU()\n",
       "   )\n",
       "   (layer2): Sequential(\n",
       "     (0): Linear(in_features=128, out_features=1024, bias=True)\n",
       "     (1): ReLU()\n",
       "   )\n",
       " ),\n",
       " 'transformer.h.17.mlp': Adapter(\n",
       "   (layer1): Sequential(\n",
       "     (0): Linear(in_features=1024, out_features=128, bias=True)\n",
       "     (1): ReLU()\n",
       "   )\n",
       "   (layer2): Sequential(\n",
       "     (0): Linear(in_features=128, out_features=1024, bias=True)\n",
       "     (1): ReLU()\n",
       "   )\n",
       " ),\n",
       " 'transformer.h.18.mlp': Adapter(\n",
       "   (layer1): Sequential(\n",
       "     (0): Linear(in_features=1024, out_features=128, bias=True)\n",
       "     (1): ReLU()\n",
       "   )\n",
       "   (layer2): Sequential(\n",
       "     (0): Linear(in_features=128, out_features=1024, bias=True)\n",
       "     (1): ReLU()\n",
       "   )\n",
       " ),\n",
       " 'transformer.h.19.mlp': Adapter(\n",
       "   (layer1): Sequential(\n",
       "     (0): Linear(in_features=1024, out_features=128, bias=True)\n",
       "     (1): ReLU()\n",
       "   )\n",
       "   (layer2): Sequential(\n",
       "     (0): Linear(in_features=128, out_features=1024, bias=True)\n",
       "     (1): ReLU()\n",
       "   )\n",
       " ),\n",
       " 'transformer.h.20.mlp': Adapter(\n",
       "   (layer1): Sequential(\n",
       "     (0): Linear(in_features=1024, out_features=128, bias=True)\n",
       "     (1): ReLU()\n",
       "   )\n",
       "   (layer2): Sequential(\n",
       "     (0): Linear(in_features=128, out_features=1024, bias=True)\n",
       "     (1): ReLU()\n",
       "   )\n",
       " ),\n",
       " 'transformer.h.21.mlp': Adapter(\n",
       "   (layer1): Sequential(\n",
       "     (0): Linear(in_features=1024, out_features=128, bias=True)\n",
       "     (1): ReLU()\n",
       "   )\n",
       "   (layer2): Sequential(\n",
       "     (0): Linear(in_features=128, out_features=1024, bias=True)\n",
       "     (1): ReLU()\n",
       "   )\n",
       " ),\n",
       " 'transformer.h.22.mlp': Adapter(\n",
       "   (layer1): Sequential(\n",
       "     (0): Linear(in_features=1024, out_features=128, bias=True)\n",
       "     (1): ReLU()\n",
       "   )\n",
       "   (layer2): Sequential(\n",
       "     (0): Linear(in_features=128, out_features=1024, bias=True)\n",
       "     (1): ReLU()\n",
       "   )\n",
       " ),\n",
       " 'transformer.h.23.mlp': Adapter(\n",
       "   (layer1): Sequential(\n",
       "     (0): Linear(in_features=1024, out_features=128, bias=True)\n",
       "     (1): ReLU()\n",
       "   )\n",
       "   (layer2): Sequential(\n",
       "     (0): Linear(in_features=128, out_features=1024, bias=True)\n",
       "     (1): ReLU()\n",
       "   )\n",
       " )}"
      ]
     },
     "execution_count": 27,
     "metadata": {},
     "output_type": "execute_result"
    }
   ],
   "source": [
    "torch.save(adapter_blocks)"
   ]
  },
  {
   "cell_type": "code",
   "execution_count": null,
   "metadata": {},
   "outputs": [],
   "source": []
  }
 ],
 "metadata": {
  "kernelspec": {
   "display_name": "Python 3.9.7",
   "language": "python",
   "name": "python3"
  },
  "language_info": {
   "codemirror_mode": {
    "name": "ipython",
    "version": 3
   },
   "file_extension": ".py",
   "mimetype": "text/x-python",
   "name": "python",
   "nbconvert_exporter": "python",
   "pygments_lexer": "ipython3",
   "version": "3.9.7"
  },
  "orig_nbformat": 4,
  "vscode": {
   "interpreter": {
    "hash": "c3835239043501baad7b502b0573c70a3454f6c2753902e68361683a11a30d10"
   }
  }
 },
 "nbformat": 4,
 "nbformat_minor": 2
}
